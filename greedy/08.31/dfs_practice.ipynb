{
 "cells": [
  {
   "cell_type": "code",
   "execution_count": 9,
   "metadata": {},
   "outputs": [
    {
     "name": "stdout",
     "output_type": "stream",
     "text": [
      "[5, 2, 3, 1, 4]\n"
     ]
    }
   ],
   "source": [
    "stack = []\n",
    "stack.append(5)\n",
    "stack.append(2)\n",
    "stack.append(3)\n",
    "stack.append(1)\n",
    "stack.append(4)\n",
    "stack.append(3)\n",
    "\n",
    "print(stack)"
   ]
  },
  {
   "cell_type": "code",
   "execution_count": 10,
   "metadata": {},
   "outputs": [
    {
     "name": "stdout",
     "output_type": "stream",
     "text": [
      "deque([5, 3, 1, 2, 4])\n"
     ]
    }
   ],
   "source": [
    "from collections import deque\n",
    "queue = deque()\n",
    "queue.append(5)\n",
    "queue.append(3)\n",
    "queue.append(1)\n",
    "queue.append(2)\n",
    "queue.append(4)\n",
    "# queue.reverse()\n",
    "\n",
    "print(queue)"
   ]
  },
  {
   "cell_type": "code",
   "execution_count": null,
   "metadata": {},
   "outputs": [],
   "source": [
    "def recursive_function(i):\n",
    "    print(i)\n",
    "    if i == 50:\n",
    "        return\n",
    "    recursive_function(i+1)\n",
    "\n",
    "recursive_function(1)"
   ]
  },
  {
   "cell_type": "code",
   "execution_count": 14,
   "metadata": {},
   "outputs": [
    {
     "data": {
      "text/plain": [
       "120"
      ]
     },
     "execution_count": 14,
     "metadata": {},
     "output_type": "execute_result"
    }
   ],
   "source": [
    "def factorial_recursive(n):\n",
    "    if n  <= 1:\n",
    "        return 1\n",
    "    return n * factorial_recursive(n-1)\n",
    "factorial_recursive(5)"
   ]
  },
  {
   "cell_type": "code",
   "execution_count": 16,
   "metadata": {},
   "outputs": [
    {
     "name": "stdout",
     "output_type": "stream",
     "text": [
      "6\n"
     ]
    }
   ],
   "source": [
    "def gcd(a,b):\n",
    "    if a%b == 0:\n",
    "        return b\n",
    "    else:\n",
    "        return gcd(b,a%b)\n",
    "print(gcd(192,162))"
   ]
  },
  {
   "cell_type": "code",
   "execution_count": 3,
   "metadata": {},
   "outputs": [
    {
     "name": "stdout",
     "output_type": "stream",
     "text": [
      "1 2 7 6 8 3 4 5 "
     ]
    }
   ],
   "source": [
    "def dfs(graph,v,visited):\n",
    "    visited[v] = True\n",
    "    print(v,end=' ')\n",
    "    for i in graph[v]:\n",
    "        if not visited[i]:\n",
    "            dfs(graph,i,visited)\n",
    "graph = [\n",
    "    [],\n",
    "    [2,3,8],#1\n",
    "    [1,7],#2\n",
    "    [1,4,5],#3\n",
    "    [3,5],#4\n",
    "    [3,4],#5\n",
    "    [7],#6\n",
    "    [2,6,8],#7\n",
    "    [1,7]#8\n",
    "]\n",
    "visited = [False]*9\n",
    "\n",
    "dfs(graph,1,visited)"
   ]
  },
  {
   "cell_type": "code",
   "execution_count": null,
   "metadata": {},
   "outputs": [],
   "source": [
    "from collections import deque\n",
    "def bfs(graph,start,visited):\n",
    "    queue = deque([start])\n",
    "    visited[start]=True\n",
    "    while queue:\n",
    "        v = queue.popleft()\n",
    "        print(v,end=' ')\n",
    "        for i in graph[v]:\n",
    "            if not visited[i]:\n",
    "                queue.append(i)\n",
    "                visited[i] = True\n",
    "graph = [\n",
    "    [],\n",
    "    [2,3,8],#1\n",
    "    [1,7],#2\n",
    "    [1,4,5],#3\n",
    "    [3,5],#4\n",
    "    [3,4],#5\n",
    "    [7],#6\n",
    "    [2,6,8],#7\n",
    "    [1,7]#8\n",
    "]\n",
    "\n",
    "visited = [False]*9\n",
    "\n",
    "bfs(graph,1,visited)\n"
   ]
  },
  {
   "cell_type": "code",
   "execution_count": 5,
   "metadata": {},
   "outputs": [
    {
     "name": "stdout",
     "output_type": "stream",
     "text": [
      "3\n"
     ]
    }
   ],
   "source": [
    "def dfs (x,y):\n",
    "    if x <=-1 or x>=n or y<=-1 or y >=m:\n",
    "        return False\n",
    "    if graph[x][y] == 0:\n",
    "        graph[x][y]=1\n",
    "        #모든곳을 방문하고 1로 만든다\n",
    "        dfs(x-1,y)\n",
    "        dfs(x,y-1)\n",
    "        dfs(x+1,y)\n",
    "        dfs(x,y+1)\n",
    "        return True\n",
    "    return False\n",
    "\n",
    "n , m = map(int,input().split())\n",
    "graph = []\n",
    "for _ in range(n):\n",
    "    graph.append(list(map(int,input())))\n",
    "result = 0 \n",
    "for i in range(n):\n",
    "    for j in range(m):\n",
    "        if dfs(i,j)==True:\n",
    "            result +=1\n",
    "print(result)"
   ]
  },
  {
   "cell_type": "code",
   "execution_count": 7,
   "metadata": {},
   "outputs": [
    {
     "name": "stdout",
     "output_type": "stream",
     "text": [
      "10\n"
     ]
    }
   ],
   "source": [
    "from collections import deque\n",
    "def bfs(x,y):\n",
    "    queue = deque()\n",
    "    queue.append((x,y))\n",
    "    while queue:\n",
    "        x,y = queue.popleft()\n",
    "        for i in range(4):\n",
    "            nx = x +dx[i]\n",
    "            ny = y +dy[i]\n",
    "            \n",
    "            if nx < 0 or nx>=n or ny <0 or ny>=m:\n",
    "                continue\n",
    "            if graph[nx][ny]==0:\n",
    "                continue\n",
    "            if graph[nx][ny]==1:\n",
    "                graph[nx][ny] = graph[x][y] +1\n",
    "                queue.append((nx,ny))\n",
    "    return graph[n-1][m-1]\n",
    "\n",
    "n,m = map(int,input().split())\n",
    "graph = []\n",
    "for i in range(n):\n",
    "    graph.append(list(map(int,input())))\n",
    "dx  = [-1,1,0,0]\n",
    "dy  = [0,0,-1,1]\n",
    "\n",
    "print(bfs(0,0))\n",
    "# 5 6\n",
    "# 101010\n",
    "# 111111\n",
    "# 000001\n",
    "# 111111\n",
    "# 111111"
   ]
  },
  {
   "cell_type": "code",
   "execution_count": null,
   "metadata": {},
   "outputs": [],
   "source": [
    "from collections import deque\n",
    "\n",
    "n,m,v = map(int,input().split())\n",
    "\n",
    "def bfs(graph, start, visited):\n",
    "    queue=deque([start])\n",
    "    visited[start]=True\n",
    "    while queue:\n",
    "        v = queue.popleft()\n",
    "        print(v,end=' ')\n",
    "        for i in graph[v]:\n",
    "            if not visited[i]:\n",
    "                queue.append(i)\n",
    "                visited[i] = True\n",
    "\n",
    "graph = []\n",
    "for _ in range(m):\n",
    "    graph.append(list(map(int,input())))\n",
    "visited = [False] * n\n",
    "\n",
    "bfs(graph,v,visited)"
   ]
  },
  {
   "cell_type": "code",
   "execution_count": null,
   "metadata": {},
   "outputs": [],
   "source": [
    "from collections import deque\n",
    "def bfs(graph,start,visited):\n",
    "    queue = deque([start])\n",
    "    visited[start]=True\n",
    "    while queue:\n",
    "        v = queue.popleft()\n",
    "        print(v,end=' ')\n",
    "        for i in graph[v]:\n",
    "            if not visited[i]:\n",
    "                queue.append(i)\n",
    "                visited[i] = True\n",
    "graph = [\n",
    "    [],\n",
    "    [2,3,8],#1\n",
    "    [1,7],#2\n",
    "    [1,4,5],#3\n",
    "    [3,5],#4\n",
    "    [3,4],#5\n",
    "    [7],#6\n",
    "    [2,6,8],#7\n",
    "    [1,7]#8\n",
    "]\n",
    "\n",
    "visited = [False]*9\n",
    "\n",
    "bfs(graph,1,visited)"
   ]
  }
 ],
 "metadata": {
  "kernelspec": {
   "display_name": "Python 3.10.6 64-bit",
   "language": "python",
   "name": "python3"
  },
  "language_info": {
   "codemirror_mode": {
    "name": "ipython",
    "version": 3
   },
   "file_extension": ".py",
   "mimetype": "text/x-python",
   "name": "python",
   "nbconvert_exporter": "python",
   "pygments_lexer": "ipython3",
   "version": "3.10.6"
  },
  "orig_nbformat": 4,
  "vscode": {
   "interpreter": {
    "hash": "aee8b7b246df8f9039afb4144a1f6fd8d2ca17a180786b69acc140d282b71a49"
   }
  }
 },
 "nbformat": 4,
 "nbformat_minor": 2
}
